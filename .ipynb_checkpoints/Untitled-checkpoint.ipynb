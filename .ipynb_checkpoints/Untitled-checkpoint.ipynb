{
 "cells": [
  {
   "cell_type": "code",
   "execution_count": 1,
   "id": "83b7751d",
   "metadata": {},
   "outputs": [],
   "source": [
    "import pandas as pd\n",
    "import numpy as np\n",
    "from numpy import linalg as LA"
   ]
  },
  {
   "cell_type": "code",
   "execution_count": 2,
   "id": "825142e5",
   "metadata": {},
   "outputs": [],
   "source": [
    "dna1 = pd.read_csv('datasets/dna_scaled1.csv').iloc[:, 1:]\n"
   ]
  },
  {
   "cell_type": "code",
   "execution_count": 3,
   "id": "137d87cd",
   "metadata": {},
   "outputs": [],
   "source": [
    "X2 = np.array(dna1)\n"
   ]
  },
  {
   "cell_type": "code",
   "execution_count": 20,
   "id": "6cfa7312",
   "metadata": {},
   "outputs": [
    {
     "data": {
      "text/plain": [
       "136"
      ]
     },
     "execution_count": 20,
     "metadata": {},
     "output_type": "execute_result"
    }
   ],
   "source": [
    "matriz = X2.T @ X2\n",
    "p, q = matriz.shape"
   ]
  },
  {
   "cell_type": "code",
   "execution_count": 17,
   "id": "a4eac0cb",
   "metadata": {},
   "outputs": [
    {
     "name": "stderr",
     "output_type": "stream",
     "text": [
      "C:\\Users\\Justo Puerto\\AppData\\Local\\Temp\\ipykernel_27564\\274015453.py:1: ComplexWarning: Casting complex values to real discards the imaginary part\n",
      "  minimo = min(np.array(LA.eig(matriz)[0], np.float32))\n"
     ]
    }
   ],
   "source": [
    "minimo = min(np.array(LA.eig(matriz)[0], np.float32))"
   ]
  },
  {
   "cell_type": "code",
   "execution_count": null,
   "id": "b29bda84",
   "metadata": {},
   "outputs": [],
   "source": [
    "matriz = matriz "
   ]
  }
 ],
 "metadata": {
  "kernelspec": {
   "display_name": "Python 3 (ipykernel)",
   "language": "python",
   "name": "python3"
  },
  "language_info": {
   "codemirror_mode": {
    "name": "ipython",
    "version": 3
   },
   "file_extension": ".py",
   "mimetype": "text/x-python",
   "name": "python",
   "nbconvert_exporter": "python",
   "pygments_lexer": "ipython3",
   "version": "3.8.10"
  }
 },
 "nbformat": 4,
 "nbformat_minor": 5
}
