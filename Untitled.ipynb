{
 "cells": [
  {
   "cell_type": "code",
   "execution_count": 3,
   "id": "83b7751d",
   "metadata": {},
   "outputs": [],
   "source": [
    "import pandas as pd\n",
    "import numpy as np\n",
    "from numpy import linalg as LA"
   ]
  },
  {
   "cell_type": "code",
   "execution_count": null,
   "id": "7896d4b1",
   "metadata": {},
   "outputs": [],
   "source": [
    "dna1 = pd.read_csv('datasets/dna_scaled1.csv').iloc[:, 1:]\n"
   ]
  },
  {
   "cell_type": "code",
   "execution_count": 49,
   "id": "137d87cd",
   "metadata": {},
   "outputs": [],
   "source": [
    "X2 = np.array(dna1)\n"
   ]
  },
  {
   "cell_type": "code",
   "execution_count": 58,
   "id": "6cfa7312",
   "metadata": {},
   "outputs": [],
   "source": [
    "matriz = X2.T @ X2\n",
    "p, q = matriz.shape"
   ]
  },
  {
   "cell_type": "code",
   "execution_count": 59,
   "id": "a4eac0cb",
   "metadata": {},
   "outputs": [
    {
     "name": "stdout",
     "output_type": "stream",
     "text": [
      "[ 4.1261875e+03  2.2091030e+03  8.1068573e+02  6.3801605e+02\n",
      "  5.1217480e+02  3.2896185e+02  3.1086960e+02  2.8632333e+02\n",
      "  2.4022775e+02  2.0610202e+02  1.7492920e+02  1.6222716e+02\n",
      "  1.4341957e+02  1.2882471e+02  1.1313592e+02  1.0583964e+02\n",
      "  9.5700264e+01  8.7686348e+01  8.0263306e+01  7.6632057e+01\n",
      "  7.0953003e+01  7.0177116e+01  6.3403351e+01  5.5696106e+01\n",
      "  5.3814072e+01  5.2974434e+01  4.8643089e+01  4.2514793e+01\n",
      "  3.9567974e+01  3.7379578e+01  3.5662304e+01  3.1155659e+01\n",
      "  3.0216785e+01  2.8839060e+01  2.7227310e+01  2.6356216e+01\n",
      "  2.4777992e+01  2.3130543e+01  2.1891106e+01  2.1488188e+01\n",
      "  2.0288048e+01  1.7331152e+01  1.7624237e+01  1.5596076e+01\n",
      "  1.6152920e+01  1.5240381e+01  1.4489007e+01  1.3631149e+01\n",
      "  1.2379013e+01  1.3155750e+01  1.2027093e+01  1.1212286e+01\n",
      "  1.0126882e+01  9.7227306e+00  8.8928680e+00  8.6782007e+00\n",
      "  7.8433309e+00  7.5362835e+00  7.2275491e+00  6.7720757e+00\n",
      "  6.1406498e+00  4.2866540e+00  5.4317265e+00  5.2823281e+00\n",
      "  4.6640663e+00  5.0839176e+00  4.1124554e+00  3.7389026e+00\n",
      "  4.9379053e+00  3.5745618e+00  5.8939797e-01  6.8248153e-01\n",
      "  3.1911235e+00  3.0331371e+00  2.7198694e+00  2.5612903e+00\n",
      "  2.3583243e+00  2.1266563e+00  1.7117074e+00  1.8284895e+00\n",
      "  1.3174065e+00  1.5066249e+00  2.2673349e+00  9.0699279e-01\n",
      "  1.1752930e+00  1.1622736e+00  1.5369757e+00  9.6591771e-01\n",
      " -1.3896699e-13 -1.3612570e-13 -1.3612570e-13  1.6304685e-13\n",
      "  1.5322083e-13  1.2852405e-13  1.2852405e-13  1.3142268e-13\n",
      " -1.0935887e-13 -1.0935887e-13 -3.7217493e-14 -3.7217493e-14\n",
      "  7.3073485e-14  7.3073485e-14 -1.0124087e-13 -1.0124087e-13\n",
      "  3.6765753e-14  3.6765753e-14 -8.5296177e-14 -8.5296177e-14\n",
      " -8.2449083e-14  8.9153606e-14  8.9153606e-14 -5.8603811e-14\n",
      " -5.8603811e-14  8.6836442e-14  7.9384822e-14  7.9384822e-14\n",
      " -5.5665216e-16 -5.5665216e-16  5.6913086e-14  5.6913086e-14\n",
      "  5.6473818e-14  4.8226045e-15  4.8226045e-15 -4.2819135e-14\n",
      " -4.2819135e-14 -4.0972356e-14  4.8119488e-14  4.8119488e-14\n",
      " -1.6630819e-14 -1.6630819e-14  2.3471402e-14  2.3471402e-14\n",
      "  1.9381633e-14 -1.9481892e-14 -1.2361467e-14 -1.2361467e-14]\n"
     ]
    },
    {
     "name": "stderr",
     "output_type": "stream",
     "text": [
      "C:\\Users\\Justo Puerto\\AppData\\Local\\Temp\\ipykernel_27564\\126549623.py:1: ComplexWarning: Casting complex values to real discards the imaginary part\n",
      "  print(np.array(LA.eig(matriz)[0], np.float32))\n",
      "C:\\Users\\Justo Puerto\\AppData\\Local\\Temp\\ipykernel_27564\\126549623.py:2: ComplexWarning: Casting complex values to real discards the imaginary part\n",
      "  minimo = min(np.array(LA.eig(matriz)[0], np.float32))\n"
     ]
    }
   ],
   "source": [
    "print(np.array(LA.eig(matriz)[0], np.float32))\n",
    "minimo = min(np.array(LA.eig(matriz)[0], np.float32))\n"
   ]
  },
  {
   "cell_type": "code",
   "execution_count": 60,
   "id": "b29bda84",
   "metadata": {},
   "outputs": [],
   "source": [
    "matriz = matriz + 1e-7*np.identity(p)"
   ]
  },
  {
   "cell_type": "code",
   "execution_count": 61,
   "id": "44f770fc",
   "metadata": {},
   "outputs": [
    {
     "name": "stderr",
     "output_type": "stream",
     "text": [
      "C:\\Users\\Justo Puerto\\AppData\\Local\\Temp\\ipykernel_27564\\4218780410.py:1: ComplexWarning: Casting complex values to real discards the imaginary part\n",
      "  np.array(LA.eig(matriz)[0], np.float32)\n"
     ]
    },
    {
     "data": {
      "text/plain": [
       "array([4.12618750e+03, 2.20910303e+03, 8.10685730e+02, 6.38016052e+02,\n",
       "       5.12174805e+02, 3.28961853e+02, 3.10869598e+02, 2.86323334e+02,\n",
       "       2.40227753e+02, 2.06102020e+02, 1.74929199e+02, 1.62227158e+02,\n",
       "       1.43419571e+02, 1.28824707e+02, 1.13135918e+02, 1.05839638e+02,\n",
       "       9.57002640e+01, 8.76863480e+01, 8.02633057e+01, 7.66320572e+01,\n",
       "       7.09530029e+01, 7.01771164e+01, 6.34033508e+01, 5.56961060e+01,\n",
       "       5.38140717e+01, 5.29744339e+01, 4.86430893e+01, 4.25147934e+01,\n",
       "       3.95679741e+01, 3.73795776e+01, 3.56623039e+01, 3.11556587e+01,\n",
       "       3.02167873e+01, 2.88390598e+01, 2.72273102e+01, 2.63562164e+01,\n",
       "       2.47779922e+01, 2.31305428e+01, 2.18911057e+01, 2.14881878e+01,\n",
       "       2.02880478e+01, 1.73311520e+01, 1.76242371e+01, 1.55960760e+01,\n",
       "       1.61529198e+01, 1.52403812e+01, 1.44890070e+01, 1.36311493e+01,\n",
       "       1.23790131e+01, 1.31557503e+01, 1.20270929e+01, 1.12122860e+01,\n",
       "       1.01268816e+01, 9.72273064e+00, 8.89286804e+00, 8.67820072e+00,\n",
       "       7.84333086e+00, 7.53628349e+00, 7.22754908e+00, 6.77207565e+00,\n",
       "       6.14064980e+00, 4.28665447e+00, 5.43172693e+00, 5.28232861e+00,\n",
       "       5.08391809e+00, 4.66406631e+00, 4.11245537e+00, 3.73890257e+00,\n",
       "       4.93790531e+00, 3.57456183e+00, 5.89398086e-01, 6.82481647e-01,\n",
       "       3.19112349e+00, 3.03313732e+00, 2.71986961e+00, 2.56129026e+00,\n",
       "       2.35832429e+00, 2.12665629e+00, 1.71170747e+00, 1.82848966e+00,\n",
       "       1.31740665e+00, 1.50662506e+00, 2.26733494e+00, 9.06992912e-01,\n",
       "       1.17529309e+00, 1.16227376e+00, 1.53697586e+00, 9.65917826e-01,\n",
       "       1.00000165e-07, 1.00000165e-07, 9.99998377e-08, 1.00000094e-07,\n",
       "       1.00000094e-07, 9.99998733e-08, 9.99998733e-08, 9.99998733e-08,\n",
       "       9.99998733e-08, 1.00000108e-07, 1.00000101e-07, 1.00000101e-07,\n",
       "       9.99999017e-08, 9.99999017e-08, 9.99998875e-08, 1.00000086e-07,\n",
       "       1.00000086e-07, 1.00000065e-07, 1.00000022e-07, 1.00000022e-07,\n",
       "       9.99999585e-08, 9.99999585e-08, 9.99999159e-08, 9.99999159e-08,\n",
       "       9.99999301e-08, 9.99999301e-08, 1.00000022e-07, 1.00000022e-07,\n",
       "       9.99999372e-08, 1.00000051e-07, 1.00000051e-07, 9.99999514e-08,\n",
       "       9.99999514e-08, 9.99999799e-08, 9.99999799e-08, 1.00000030e-07,\n",
       "       1.00000030e-07, 1.00000044e-07, 1.00000015e-07, 1.00000015e-07,\n",
       "       1.00000030e-07, 1.00000030e-07, 9.99999727e-08, 9.99999727e-08,\n",
       "       9.99999941e-08, 9.99999941e-08, 9.99999870e-08, 9.99999870e-08],\n",
       "      dtype=float32)"
      ]
     },
     "execution_count": 61,
     "metadata": {},
     "output_type": "execute_result"
    }
   ],
   "source": [
    "np.array(LA.eig(matriz)[0], np.float32)"
   ]
  },
  {
   "cell_type": "code",
   "execution_count": 1,
   "id": "c15898c6",
   "metadata": {},
   "outputs": [],
   "source": [
    "import pandas as pd"
   ]
  },
  {
   "cell_type": "code",
   "execution_count": 6,
   "id": "bce89786",
   "metadata": {},
   "outputs": [
    {
     "data": {
      "text/html": [
       "<div>\n",
       "<style scoped>\n",
       "    .dataframe tbody tr th:only-of-type {\n",
       "        vertical-align: middle;\n",
       "    }\n",
       "\n",
       "    .dataframe tbody tr th {\n",
       "        vertical-align: top;\n",
       "    }\n",
       "\n",
       "    .dataframe thead th {\n",
       "        text-align: right;\n",
       "    }\n",
       "</style>\n",
       "<table border=\"1\" class=\"dataframe\">\n",
       "  <thead>\n",
       "    <tr style=\"text-align: right;\">\n",
       "      <th></th>\n",
       "      <th>dataset</th>\n",
       "      <th>method</th>\n",
       "      <th>k1</th>\n",
       "      <th>k2</th>\n",
       "      <th>ObjVal_Train</th>\n",
       "      <th>ObjVal_Test</th>\n",
       "      <th>Time_Elapsed</th>\n",
       "      <th>N_Iter</th>\n",
       "    </tr>\n",
       "  </thead>\n",
       "  <tbody>\n",
       "    <tr>\n",
       "      <th>0</th>\n",
       "      <td>0</td>\n",
       "      <td>greedy_CCA</td>\n",
       "      <td>3</td>\n",
       "      <td>3</td>\n",
       "      <td>0.813503</td>\n",
       "      <td>0.822773</td>\n",
       "      <td>0.504050</td>\n",
       "      <td>-1</td>\n",
       "    </tr>\n",
       "    <tr>\n",
       "      <th>1</th>\n",
       "      <td>0</td>\n",
       "      <td>greedy_CCA</td>\n",
       "      <td>3</td>\n",
       "      <td>3</td>\n",
       "      <td>0.824060</td>\n",
       "      <td>0.808059</td>\n",
       "      <td>0.471287</td>\n",
       "      <td>-1</td>\n",
       "    </tr>\n",
       "    <tr>\n",
       "      <th>2</th>\n",
       "      <td>0</td>\n",
       "      <td>greedy_CCA</td>\n",
       "      <td>3</td>\n",
       "      <td>3</td>\n",
       "      <td>0.838847</td>\n",
       "      <td>0.769787</td>\n",
       "      <td>0.466717</td>\n",
       "      <td>-1</td>\n",
       "    </tr>\n",
       "    <tr>\n",
       "      <th>3</th>\n",
       "      <td>0</td>\n",
       "      <td>greedy_CCA</td>\n",
       "      <td>3</td>\n",
       "      <td>3</td>\n",
       "      <td>0.827361</td>\n",
       "      <td>0.797434</td>\n",
       "      <td>0.463068</td>\n",
       "      <td>-1</td>\n",
       "    </tr>\n",
       "    <tr>\n",
       "      <th>4</th>\n",
       "      <td>0</td>\n",
       "      <td>greedy_CCA</td>\n",
       "      <td>3</td>\n",
       "      <td>3</td>\n",
       "      <td>0.833117</td>\n",
       "      <td>0.827711</td>\n",
       "      <td>0.451392</td>\n",
       "      <td>-1</td>\n",
       "    </tr>\n",
       "    <tr>\n",
       "      <th>...</th>\n",
       "      <td>...</td>\n",
       "      <td>...</td>\n",
       "      <td>...</td>\n",
       "      <td>...</td>\n",
       "      <td>...</td>\n",
       "      <td>...</td>\n",
       "      <td>...</td>\n",
       "      <td>...</td>\n",
       "    </tr>\n",
       "    <tr>\n",
       "      <th>623</th>\n",
       "      <td>5</td>\n",
       "      <td>combined_CCA</td>\n",
       "      <td>10</td>\n",
       "      <td>10</td>\n",
       "      <td>0.868310</td>\n",
       "      <td>0.866567</td>\n",
       "      <td>163.182365</td>\n",
       "      <td>-1</td>\n",
       "    </tr>\n",
       "    <tr>\n",
       "      <th>624</th>\n",
       "      <td>5</td>\n",
       "      <td>combined_CCA</td>\n",
       "      <td>10</td>\n",
       "      <td>10</td>\n",
       "      <td>0.867350</td>\n",
       "      <td>0.866025</td>\n",
       "      <td>139.891994</td>\n",
       "      <td>-1</td>\n",
       "    </tr>\n",
       "    <tr>\n",
       "      <th>625</th>\n",
       "      <td>5</td>\n",
       "      <td>combined_CCA</td>\n",
       "      <td>10</td>\n",
       "      <td>10</td>\n",
       "      <td>0.868486</td>\n",
       "      <td>0.868189</td>\n",
       "      <td>200.193184</td>\n",
       "      <td>-1</td>\n",
       "    </tr>\n",
       "    <tr>\n",
       "      <th>626</th>\n",
       "      <td>5</td>\n",
       "      <td>combined_CCA</td>\n",
       "      <td>10</td>\n",
       "      <td>10</td>\n",
       "      <td>0.869394</td>\n",
       "      <td>0.864931</td>\n",
       "      <td>200.891186</td>\n",
       "      <td>-1</td>\n",
       "    </tr>\n",
       "    <tr>\n",
       "      <th>627</th>\n",
       "      <td>5</td>\n",
       "      <td>combined_CCA</td>\n",
       "      <td>10</td>\n",
       "      <td>10</td>\n",
       "      <td>0.866720</td>\n",
       "      <td>0.867807</td>\n",
       "      <td>141.517439</td>\n",
       "      <td>-1</td>\n",
       "    </tr>\n",
       "  </tbody>\n",
       "</table>\n",
       "<p>628 rows × 8 columns</p>\n",
       "</div>"
      ],
      "text/plain": [
       "     dataset        method  k1  k2  ObjVal_Train  ObjVal_Test  Time_Elapsed  \\\n",
       "0          0    greedy_CCA   3   3      0.813503     0.822773      0.504050   \n",
       "1          0    greedy_CCA   3   3      0.824060     0.808059      0.471287   \n",
       "2          0    greedy_CCA   3   3      0.838847     0.769787      0.466717   \n",
       "3          0    greedy_CCA   3   3      0.827361     0.797434      0.463068   \n",
       "4          0    greedy_CCA   3   3      0.833117     0.827711      0.451392   \n",
       "..       ...           ...  ..  ..           ...          ...           ...   \n",
       "623        5  combined_CCA  10  10      0.868310     0.866567    163.182365   \n",
       "624        5  combined_CCA  10  10      0.867350     0.866025    139.891994   \n",
       "625        5  combined_CCA  10  10      0.868486     0.868189    200.193184   \n",
       "626        5  combined_CCA  10  10      0.869394     0.864931    200.891186   \n",
       "627        5  combined_CCA  10  10      0.866720     0.867807    141.517439   \n",
       "\n",
       "     N_Iter  \n",
       "0        -1  \n",
       "1        -1  \n",
       "2        -1  \n",
       "3        -1  \n",
       "4        -1  \n",
       "..      ...  \n",
       "623      -1  \n",
       "624      -1  \n",
       "625      -1  \n",
       "626      -1  \n",
       "627      -1  \n",
       "\n",
       "[628 rows x 8 columns]"
      ]
     },
     "execution_count": 6,
     "metadata": {},
     "output_type": "execute_result"
    }
   ],
   "source": [
    "resultados = pd.read_csv('results/results05.csv').iloc[:, 1:]"
   ]
  },
  {
   "cell_type": "code",
   "execution_count": 10,
   "id": "a3384945",
   "metadata": {},
   "outputs": [],
   "source": [
    "resultados.groupby(['dataset', 'k1', 'k2', 'method']).describe().to_excel('results/summary.xlsx')"
   ]
  },
  {
   "cell_type": "code",
   "execution_count": 12,
   "id": "da19fe7f",
   "metadata": {},
   "outputs": [
    {
     "data": {
      "text/plain": [
       "<seaborn.axisgrid.FacetGrid at 0x1e4420583a0>"
      ]
     },
     "execution_count": 12,
     "metadata": {},
     "output_type": "execute_result"
    },
    {
     "data": {
      "image/png": "[encoded data removed]",
      "text/plain": [
       "<Figure size 6480x360 with 6 Axes>"
      ]
     },
     "metadata": {
      "needs_background": "light"
     },
     "output_type": "display_data"
    }
   ],
   "source": [
    "import seaborn as sns\n",
    "\n",
    "sns.catplot(x = 'method', y = 'ObjVal_Train', col = 'dataset', kind = 'box', aspect = 3, data = resultados)"
   ]
  },
  {
   "cell_type": "code",
   "execution_count": 1,
   "id": "db5707dd",
   "metadata": {},
   "outputs": [
    {
     "ename": "NameError",
     "evalue": "name 'sns' is not defined",
     "output_type": "error",
     "traceback": [
      "\u001b[1;31m---------------------------------------------------------------------------\u001b[0m",
      "\u001b[1;31mNameError\u001b[0m                                 Traceback (most recent call last)",
      "Input \u001b[1;32mIn [1]\u001b[0m, in \u001b[0;36m<module>\u001b[1;34m\u001b[0m\n\u001b[1;32m----> 1\u001b[0m \u001b[43msns\u001b[49m\u001b[38;5;241m.\u001b[39mcatplot(hue \u001b[38;5;241m=\u001b[39m \u001b[38;5;124m'\u001b[39m\u001b[38;5;124mmethod\u001b[39m\u001b[38;5;124m'\u001b[39m, y \u001b[38;5;241m=\u001b[39m \u001b[38;5;124m'\u001b[39m\u001b[38;5;124mObjVal_Train\u001b[39m\u001b[38;5;124m'\u001b[39m, x \u001b[38;5;241m=\u001b[39m \u001b[38;5;124m'\u001b[39m\u001b[38;5;124mdataset\u001b[39m\u001b[38;5;124m'\u001b[39m, kind \u001b[38;5;241m=\u001b[39m \u001b[38;5;124m'\u001b[39m\u001b[38;5;124mbox\u001b[39m\u001b[38;5;124m'\u001b[39m, aspect \u001b[38;5;241m=\u001b[39m \u001b[38;5;241m3\u001b[39m, data \u001b[38;5;241m=\u001b[39m resultados)\n",
      "\u001b[1;31mNameError\u001b[0m: name 'sns' is not defined"
     ]
    }
   ],
   "source": [
    "sns.catplot(hue = 'method', y = 'ObjVal_Train', x = 'dataset', kind = 'box', aspect = 3, data = resultados)\n"
   ]
  },
  {
   "cell_type": "code",
   "execution_count": 21,
   "id": "9556903d",
   "metadata": {},
   "outputs": [],
   "source": [
    "import pandas as pd\n",
    "\n",
    "# datasets = [0, 0, 0, 1, 1, 2, 2, 3, 3, 4, 4, 5, 5, 5]\n",
    "indices = [(3, 3), (5, 5), (10, 10), (2, 2), (3, 3), (2, 2), (3, 3), (3, 3), (5, 5), (3, 3), (5, 5), (3, 3), (5, 5), (10, 10)]\n",
    "\n",
    "freqs = [3, 2, 2, 2, 2, 3]\n",
    "indices_k = [[3, 5, 10], [2, 3], [2, 3], [3, 5], [3, 5], [3, 5, 10]]\n",
    "\n",
    "datasets = []\n",
    "k1s = []\n",
    "k2s = []\n",
    "\n",
    "for val in range(6):\n",
    "    for rep in range(freqs[val]):\n",
    "        for i in range(5):\n",
    "            datasets.append(val)\n",
    "            \n",
    "    for k1 in indices_k[val]:\n",
    "        for i in range(5):\n",
    "            k1s.append(k1)\n",
    "            k2s.append(k1)\n",
    "\n",
    "tuples = []\n",
    "for dataset, k1, k2 in zip(datasets, k1s, k2s):\n",
    "    tuples.append((dataset, k1, k2))"
   ]
  },
  {
   "cell_type": "code",
   "execution_count": 22,
   "id": "469e08f9",
   "metadata": {},
   "outputs": [],
   "source": [
    "# data = pd.read_csv('matriz_resultados.csv', sep = \" \", header = None).iloc[:, [1, 3, 5]]\n",
    "# means = data.rolling(window=5, min_periods=2).mean()[4::5]\n",
    "# means = means.set_index(pd.MultiIndex.from_tuples(tuples, names = ['dataset', '(p, q)']))\n",
    "# means = means.rename(columns={1:'ObjVal_Train', 3:'ObjVal_Test', 5:'Time_Elapsed'}).to_csv('results/means_lasso.csv')\n",
    "# stds = data.rolling(window=5, min_periods=2).std()[4::5]\n",
    "# stds = stds.set_index(pd.MultiIndex.from_tuples(tuples, names = ['dataset', '(p, q)']))\n",
    "# stds = stds.rename(columns={1:'ObjVal_Train', 3:'ObjVal_Test', 5:'Time_Elapsed'}).to_csv('results/stds_lasso.csv')"
   ]
  },
  {
   "cell_type": "code",
   "execution_count": 26,
   "id": "70ca4afa",
   "metadata": {},
   "outputs": [],
   "source": [
    "data = pd.read_csv('matriz_resultados.csv', sep = \" \", header = None).iloc[:, [1, 3, 5]]\n",
    "data = data.set_index(pd.MultiIndex.from_tuples(tuples, names = ['dataset', 'k1', 'k2']))\n",
    "data = data.rename(columns={1:'ObjVal_Train', 3:'ObjVal_Test', 5:'Time_Elapsed'})\n",
    "\n",
    "data.groupby(['dataset', 'k1', 'k2']).describe().to_excel('results/summary_lasso.xlsx')"
   ]
  },
  {
   "cell_type": "code",
   "execution_count": null,
   "id": "a8eeca99",
   "metadata": {},
   "outputs": [],
   "source": []
  }
 ],
 "metadata": {
  "kernelspec": {
   "display_name": "Python 3 (ipykernel)",
   "language": "python",
   "name": "python3"
  },
  "language_info": {
   "codemirror_mode": {
    "name": "ipython",
    "version": 3
   },
   "file_extension": ".py",
   "mimetype": "text/x-python",
   "name": "python",
   "nbconvert_exporter": "python",
   "pygments_lexer": "ipython3",
   "version": "3.8.10"
  }
 },
 "nbformat": 4,
 "nbformat_minor": 5
}
